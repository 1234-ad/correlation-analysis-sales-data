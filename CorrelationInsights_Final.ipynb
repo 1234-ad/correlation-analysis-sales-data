{
 "cells": [
  {
   "cell_type": "markdown",
   "id": "6b18843c",
   "metadata": {},
   "source": [
    "# Task 6: Correlation & Insights - FINAL\n",
    "Using the sample sales dataset."
   ]
  },
  {
   "cell_type": "code",
   "execution_count": null,
   "id": "f1b9060f",
   "metadata": {},
   "outputs": [],
   "source": [
    "import pandas as pd\n",
    "import seaborn as sns\n",
    "import matplotlib.pyplot as plt\n",
    "df = pd.read_csv('sample_sales_data_with_features.csv')\n",
    "corr = df[['Age', 'UnitPrice', 'Quantity', 'TotalCost']].corr()\n",
    "sns.heatmap(corr, annot=True)\n",
    "plt.show()"
   ]
  },
  {
   "cell_type": "markdown",
   "id": "8712aaed",
   "metadata": {},
   "source": [
    "## Scatterplots for strong correlations"
   ]
  },
  {
   "cell_type": "code",
   "execution_count": null,
   "id": "c63c8948",
   "metadata": {},
   "outputs": [],
   "source": [
    "sns.scatterplot(x='UnitPrice', y='TotalCost', data=df)\n",
    "plt.title('Unit Price vs Total Cost')\n",
    "plt.show()\n",
    "\n",
    "sns.scatterplot(x='Quantity', y='TotalCost', data=df)\n",
    "plt.title('Quantity vs Total Cost')\n",
    "plt.show()"
   ]
  },
  {
   "cell_type": "markdown",
   "id": "f123bfa5",
   "metadata": {},
   "source": [
    "### Insights\n",
    "- Higher unit prices naturally increase total cost when quantity is constant.\n",
    "- Larger quantity orders drive up total cost proportionally."
   ]
  }
 ],
 "metadata": {},
 "nbformat": 4,
 "nbformat_minor": 5
}
